{
 "cells": [
  {
   "cell_type": "markdown",
   "metadata": {},
   "source": [
    "## 1. Get Data"
   ]
  },
  {
   "cell_type": "code",
   "execution_count": 18,
   "metadata": {},
   "outputs": [
    {
     "name": "stdout",
     "output_type": "stream",
     "text": [
      "data\\pizza_steak_sushi directory exists...\n"
     ]
    }
   ],
   "source": [
    "import os\n",
    "import zipfile\n",
    "from pathlib import Path \n",
    "import requests\n",
    "\n",
    "#Path to data folder\n",
    "data_path = Path(\"data/\")\n",
    "image_path = data_path / \"pizza_steak_sushi\"\n",
    "\n",
    "# If the image folder dosent exist, download it and prepare it\n",
    "if image_path.is_dir():\n",
    "    print(f\"{image_path} directory exists...\")\n",
    "else:\n",
    "    print(f\"Did not find {image_path} directory, creating one..\")\n",
    "    image_path.mkdir(parents=True, exist_ok=True)\n",
    "    \n",
    "    # Download pizza, steak, sushi data\n",
    "    with open(data_path / \"pizza_steak_sushi.zip\",\"wb\") as f:\n",
    "        request = requests.get(\"https://github.com/mrdbourke/pytorch-deep-learning/raw/main/data/pizza_steak_sushi.zip\")\n",
    "        print(\"Downloading pizza, steak, sushi data..\")\n",
    "        \n",
    "    # Unzip pizza, steak, sshi data\n",
    "    with zipfile.ZipFile(data_path / \"pizza_steak_sushi.zip\",\"r\") as zip_ref:\n",
    "        print(\"Unzipping pizza, steak, sushi data..\")\n",
    "        zip_ref.extractall(image_path)"
   ]
  },
  {
   "cell_type": "code",
   "execution_count": 19,
   "metadata": {},
   "outputs": [
    {
     "data": {
      "text/plain": [
       "(WindowsPath('data/pizza_steak_sushi/train'),\n",
       " WindowsPath('data/pizza_steak_sushi/test'))"
      ]
     },
     "execution_count": 19,
     "metadata": {},
     "output_type": "execute_result"
    }
   ],
   "source": [
    "train_dir = image_path / \"train\"\n",
    "test_dir = image_path / \"test\"\n",
    "train_dir, test_dir"
   ]
  },
  {
   "cell_type": "code",
   "execution_count": 20,
   "metadata": {},
   "outputs": [],
   "source": [
    "from torchvision import transforms, datasets\n",
    "data_transform = transforms.Compose([ \n",
    "                                     transforms.Resize((64,64)),\n",
    "                                     transforms.ToTensor()\n",
    "                                     ])"
   ]
  },
  {
   "cell_type": "markdown",
   "metadata": {},
   "source": [
    "## 2.1 Create datasets and dataloaders (script mode)"
   ]
  },
  {
   "cell_type": "code",
   "execution_count": 21,
   "metadata": {},
   "outputs": [],
   "source": [
    "# create going modular dir \n",
    "import os\n",
    "os.makedirs(\"going_modular\",exist_ok=True)"
   ]
  },
  {
   "cell_type": "code",
   "execution_count": 22,
   "metadata": {},
   "outputs": [
    {
     "name": "stdout",
     "output_type": "stream",
     "text": [
      "Overwriting going_modular/data_setup.py\n"
     ]
    }
   ],
   "source": [
    "%%writefile going_modular/data_setup.py\n",
    "\"\"\"\n",
    " Contains functionality for creating PyTorch Dataloader's for image classification data\n",
    "\"\"\"\n",
    "\n",
    "\n",
    "import os\n",
    "from torchvision import transforms, datasets\n",
    "from torch.utils.data import DataLoader\n",
    "\n",
    "NUM_WORKERS = os.cpu_count()\n",
    "\n",
    "def create_dataloaders( \n",
    "                       train_dir: str,\n",
    "                       test_dir: str,\n",
    "                       transform: transforms.Compose,\n",
    "                       batch_size: int,\n",
    "                       num_workers: int = NUM_WORKERS):\n",
    "    # Use image_folder to create datasets\n",
    "    train_data = datasets.ImageFolder(root = train_dir,\n",
    "                                      transform = transform,\n",
    "                                      target_transform = None)\n",
    "    test_data = datasets.ImageFolder(root = test_dir,\n",
    "                                     transform = transform)\n",
    "    \n",
    "    train_dataloader = DataLoader(dataset= train_data,\n",
    "                                  batch_size = batch_size,\n",
    "                                  num_workers = NUM_WORKERS,\n",
    "                                  shuffle = True\n",
    "                                  )\n",
    "    \n",
    "    test_dataloader = DataLoader(dataset = test_dataloader,\n",
    "                                 batch_size = batch_size,\n",
    "                                 num_workers = NUM_WORKERS,\n",
    "                                 shuffle = False)\n",
    "    \n",
    "    return train_dataloader, test_dataloaders, class_names\n",
    "    \n",
    "    "
   ]
  },
  {
   "cell_type": "code",
   "execution_count": null,
   "metadata": {},
   "outputs": [],
   "source": []
  }
 ],
 "metadata": {
  "kernelspec": {
   "display_name": "pytorch-gpu-python-3-10",
   "language": "python",
   "name": "python3"
  },
  "language_info": {
   "codemirror_mode": {
    "name": "ipython",
    "version": 3
   },
   "file_extension": ".py",
   "mimetype": "text/x-python",
   "name": "python",
   "nbconvert_exporter": "python",
   "pygments_lexer": "ipython3",
   "version": "3.10.12"
  }
 },
 "nbformat": 4,
 "nbformat_minor": 2
}
